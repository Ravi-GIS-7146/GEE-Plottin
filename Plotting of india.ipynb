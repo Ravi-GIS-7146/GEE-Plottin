{
 "cells": [
  {
   "cell_type": "code",
   "execution_count": 1,
   "id": "37885e94",
   "metadata": {},
   "outputs": [
    {
     "data": {
      "application/vnd.jupyter.widget-view+json": {
       "model_id": "30420b24f23d4f859cf299c781a9700d",
       "version_major": 2,
       "version_minor": 0
      },
      "text/plain": [
       "Map(center=[20, 0], controls=(WidgetControl(options=['position', 'transparent_bg'], widget=HBox(children=(Togg…"
      ]
     },
     "metadata": {},
     "output_type": "display_data"
    },
    {
     "name": "stdout",
     "output_type": "stream",
     "text": [
      "Element.toDictionary: Parameter 'element' is required.\n",
      "Element.toDictionary: Parameter 'element' is required.\n"
     ]
    }
   ],
   "source": [
    "import ee\n",
    "import geemap\n",
    "m = geemap.Map()\n",
    "m"
   ]
  },
  {
   "cell_type": "code",
   "execution_count": 4,
   "id": "a0efa81d",
   "metadata": {},
   "outputs": [],
   "source": [
    "Landsat7 = ee.Image('LE7_TOA_5YEAR/1999_2003')\\\n",
    "   .select([0, 1, 2, 3, 4, 5, 6])\n",
    "Landsat_Vis = {\n",
    "    'band':['B4', 'B3', 'B2'],\n",
    "    'gamma': 1.4\n",
    "    \n",
    "}\n",
    "m.addLayer(Landsat7, Landsat_Vis, 'LE7_TOA_5YEAR/1999_2003')\n",
    "\n",
    "hyperian = ee.ImageCollection(\"EO1/HYPERION\")\\\n",
    "      .filter(ee.Filter.date('2016-01-01', '2017-03-01'));\n",
    "hyperian_Vis = {\n",
    "  'min': 1000.0,\n",
    "  'max': 14000.0,\n",
    "  'gamma': 2.5,\n",
    "}\n",
    "m.addLayer(hyperian, hyperian_Vis, 'EO1/HYPERION')"
   ]
  },
  {
   "cell_type": "code",
   "execution_count": 11,
   "id": "71dfdf1e",
   "metadata": {},
   "outputs": [],
   "source": [
    "\n",
    "m.set_plot_options(plot_type='bar', add_marker_cluster=True)\n"
   ]
  },
  {
   "cell_type": "code",
   "execution_count": null,
   "id": "eab55633",
   "metadata": {},
   "outputs": [],
   "source": []
  }
 ],
 "metadata": {
  "kernelspec": {
   "display_name": "Python 3 (ipykernel)",
   "language": "python",
   "name": "python3"
  },
  "language_info": {
   "codemirror_mode": {
    "name": "ipython",
    "version": 3
   },
   "file_extension": ".py",
   "mimetype": "text/x-python",
   "name": "python",
   "nbconvert_exporter": "python",
   "pygments_lexer": "ipython3",
   "version": "3.9.7"
  }
 },
 "nbformat": 4,
 "nbformat_minor": 5
}
